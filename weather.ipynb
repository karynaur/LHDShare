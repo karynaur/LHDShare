{
  "nbformat": 4,
  "nbformat_minor": 0,
  "metadata": {
    "colab": {
      "name": "weather.ipynb",
      "provenance": []
    },
    "kernelspec": {
      "name": "python3",
      "display_name": "Python 3"
    },
    "language_info": {
      "name": "python"
    }
  },
  "cells": [
    {
      "cell_type": "code",
      "metadata": {
        "colab": {
          "base_uri": "https://localhost:8080/"
        },
        "id": "jtElcLQP6IyA",
        "outputId": "7a0e9cbb-cf19-414f-82ba-112be33bdfc7"
      },
      "source": [
        "import requests\n",
        "import re\n",
        "from bs4 import BeautifulSoup\n",
        "from pathlib import Path\n",
        "\n",
        "# Set base values\n",
        "download_folder = Path.cwd() / 'download'\n",
        "base_url = 'https://opendata.dwd.de/climate_environment/CDC/observations_germany/climate/hourly/air_temperature/historical/'\n",
        "\n",
        "\n",
        "# Initiate Session and get the Index-Page\n",
        "with requests.Session() as s:\n",
        "    resp = s.get(base_url)\n",
        "\n",
        "# Parse the Index-Page for all relevant <a href>\n",
        "soup = BeautifulSoup(resp.content)\n",
        "links = soup.findAll(\"a\", href=re.compile(\"stundenwerte_TU_.*_hist.zip\"))\n",
        "\n",
        "# For testing, only download 10 files\n",
        "file_max = 10\n",
        "dl_count = 0\n",
        "\n",
        "#Download the .zip files to the download_folder\n",
        "for link in links:\n",
        "    zip_response = requests.get(base_url + link['href'], stream=True)\n",
        "    # Limit the downloads while testing\n",
        "    dl_count += 1\n",
        "    if dl_count > file_max:\n",
        "        break\n",
        "    with open(Path(download_folder) / link['href'], 'wb') as file:\n",
        "        for chunk in zip_response.iter_content(chunk_size=128):\n",
        "            file.write(chunk)\n",
        "\n",
        "print('Done')"
      ],
      "execution_count": 2,
      "outputs": [
        {
          "output_type": "stream",
          "text": [
            "Done\n"
          ],
          "name": "stdout"
        }
      ]
    },
    {
      "cell_type": "code",
      "metadata": {
        "colab": {
          "base_uri": "https://localhost:8080/",
          "height": 35
        },
        "id": "Mcjm2Z2U6atT",
        "outputId": "6152f990-631c-4f57-855f-7b1812de9ce6"
      },
      "source": [
        "from pathlib import Path\n",
        "import glob\n",
        "import re\n",
        "from zipfile import ZipFile\n",
        "\n",
        "# Folder definitions\n",
        "download_folder = Path.cwd() / 'download'\n",
        "import_folder = Path.cwd() / 'import'\n",
        "\n",
        "# Find all .zip files and generate a list\n",
        "unzip_files = glob.glob('download/stundenwerte_TU_*_hist.zip')\n",
        "\n",
        "# Set the name pattern of the file we need\n",
        "regex_name = re.compile('produkt.*')\n",
        "\n",
        "# Open all files, look for files that match ne regex pattern, extract to 'import'\n",
        "for file in unzip_files:\n",
        "    with ZipFile(file, 'r') as zipObj:\n",
        "        list_of_filenames = zipObj.namelist()\n",
        "        extract_filename = list(filter(regex_name.match, list_of_filenames))[0]\n",
        "        zipObj.extract(extract_filename, import_folder)\n",
        "\n",
        "display('Done')"
      ],
      "execution_count": 3,
      "outputs": [
        {
          "output_type": "display_data",
          "data": {
            "application/vnd.google.colaboratory.intrinsic+json": {
              "type": "string"
            },
            "text/plain": [
              "'Done'"
            ]
          },
          "metadata": {
            "tags": []
          }
        }
      ]
    },
    {
      "cell_type": "code",
      "metadata": {
        "colab": {
          "base_uri": "https://localhost:8080/",
          "height": 127
        },
        "id": "oJ0PQqVc6nVH",
        "outputId": "2855d27c-2905-4e60-ae42-2c7cc4f363af"
      },
      "source": [
        "import numpy as np\n",
        "import pandas as pd\n",
        "from IPython.display import clear_output\n",
        "\n",
        "from pathlib import Path\n",
        "import glob\n",
        "\n",
        "\n",
        "import_files = glob.glob('import/*')\n",
        "out_file = Path.cwd() / \"export_uncleaned\" / \"to_clean\"\n",
        "\n",
        "obsolete_columns = [\n",
        "    'QN_9',\n",
        "    'RF_TU',\n",
        "    'eor'\n",
        "]\n",
        "\n",
        "main_df = pd.DataFrame()\n",
        "i = 1\n",
        "\n",
        "for file in import_files:\n",
        "\n",
        "    # Read in the next file\n",
        "    df = pd.read_csv(file, delimiter=\";\")\n",
        "\n",
        "    # Prepare the df before merging (Drop obsolete, convert to datetime, filter to date, set index)\n",
        "    df.drop(columns=obsolete_columns, inplace=True)\n",
        "    df[\"MESS_DATUM\"] = pd.to_datetime(df[\"MESS_DATUM\"], format=\"%Y%m%d%H\")\n",
        "    df = df[df['MESS_DATUM']>= \"2007-01-01\"]\n",
        "    df.set_index(['MESS_DATUM', 'STATIONS_ID'], inplace=True)\n",
        "\n",
        "    # Merge to the main_df\n",
        "    main_df = pd.concat([main_df, df])\n",
        "\n",
        "    # Display some status messages\n",
        "    clear_output(wait=True)\n",
        "    display('Finished file: {}'.format(file), 'This is file {}'.format(i))\n",
        "    display('Shape of the main_df is: {}'.format(main_df.shape))\n",
        "    i+=1\n",
        "\n",
        "# Check if all types are correct\n",
        "display(main_df['TT_TU'].apply(lambda x: type(x).__name__).value_counts())\n",
        "\n",
        "# Make sure that to files or observations a duplicates, eg. scan the index for duplicate entries.\n",
        "# The ~ is a bitwise operation, meaning it flips all bits.\n",
        "main_df = main_df[~main_df.index.duplicated(keep='last')]\n",
        "\n",
        "\n",
        "# Unstack the main_df\n",
        "main_df = main_df.unstack('STATIONS_ID')\n",
        "display('Shape of the main_df is: {}'.format(main_df.shape))\n",
        "\n",
        "# Save main_df to a .csv file and a pickle to continue working in the next step\n",
        "main_df.to_pickle(Path(out_file).with_suffix('.pkl'))\n",
        "main_df.to_csv(Path(out_file).with_suffix('.csv'), sep=\";\")\n"
      ],
      "execution_count": 8,
      "outputs": [
        {
          "output_type": "display_data",
          "data": {
            "application/vnd.google.colaboratory.intrinsic+json": {
              "type": "string"
            },
            "text/plain": [
              "'Finished file: import/produkt_tu_stunde_19500401_20110331_00003.txt'"
            ]
          },
          "metadata": {
            "tags": []
          }
        },
        {
          "output_type": "display_data",
          "data": {
            "application/vnd.google.colaboratory.intrinsic+json": {
              "type": "string"
            },
            "text/plain": [
              "'This is file 10'"
            ]
          },
          "metadata": {
            "tags": []
          }
        },
        {
          "output_type": "display_data",
          "data": {
            "application/vnd.google.colaboratory.intrinsic+json": {
              "type": "string"
            },
            "text/plain": [
              "'Shape of the main_df is: (824909, 1)'"
            ]
          },
          "metadata": {
            "tags": []
          }
        },
        {
          "output_type": "display_data",
          "data": {
            "text/plain": [
              "float    824909\n",
              "Name: TT_TU, dtype: int64"
            ]
          },
          "metadata": {
            "tags": []
          }
        },
        {
          "output_type": "display_data",
          "data": {
            "application/vnd.google.colaboratory.intrinsic+json": {
              "type": "string"
            },
            "text/plain": [
              "'Shape of the main_df is: (122736, 7)'"
            ]
          },
          "metadata": {
            "tags": []
          }
        }
      ]
    },
    {
      "cell_type": "code",
      "metadata": {
        "colab": {
          "base_uri": "https://localhost:8080/",
          "height": 258
        },
        "id": "mx2I4-xJ6uth",
        "outputId": "cac49de0-ca76-4c14-8b61-4a1c6053c727"
      },
      "source": [
        "main_df.head()"
      ],
      "execution_count": 9,
      "outputs": [
        {
          "output_type": "execute_result",
          "data": {
            "text/html": [
              "<div>\n",
              "<style scoped>\n",
              "    .dataframe tbody tr th:only-of-type {\n",
              "        vertical-align: middle;\n",
              "    }\n",
              "\n",
              "    .dataframe tbody tr th {\n",
              "        vertical-align: top;\n",
              "    }\n",
              "\n",
              "    .dataframe thead tr th {\n",
              "        text-align: left;\n",
              "    }\n",
              "\n",
              "    .dataframe thead tr:last-of-type th {\n",
              "        text-align: right;\n",
              "    }\n",
              "</style>\n",
              "<table border=\"1\" class=\"dataframe\">\n",
              "  <thead>\n",
              "    <tr>\n",
              "      <th></th>\n",
              "      <th colspan=\"7\" halign=\"left\">TT_TU</th>\n",
              "    </tr>\n",
              "    <tr>\n",
              "      <th>STATIONS_ID</th>\n",
              "      <th>3</th>\n",
              "      <th>44</th>\n",
              "      <th>71</th>\n",
              "      <th>73</th>\n",
              "      <th>78</th>\n",
              "      <th>91</th>\n",
              "      <th>96</th>\n",
              "    </tr>\n",
              "    <tr>\n",
              "      <th>MESS_DATUM</th>\n",
              "      <th></th>\n",
              "      <th></th>\n",
              "      <th></th>\n",
              "      <th></th>\n",
              "      <th></th>\n",
              "      <th></th>\n",
              "      <th></th>\n",
              "    </tr>\n",
              "  </thead>\n",
              "  <tbody>\n",
              "    <tr>\n",
              "      <th>2007-01-01 00:00:00</th>\n",
              "      <td>11.4</td>\n",
              "      <td>NaN</td>\n",
              "      <td>NaN</td>\n",
              "      <td>NaN</td>\n",
              "      <td>11.0</td>\n",
              "      <td>9.4</td>\n",
              "      <td>NaN</td>\n",
              "    </tr>\n",
              "    <tr>\n",
              "      <th>2007-01-01 01:00:00</th>\n",
              "      <td>12.0</td>\n",
              "      <td>NaN</td>\n",
              "      <td>NaN</td>\n",
              "      <td>NaN</td>\n",
              "      <td>11.4</td>\n",
              "      <td>9.6</td>\n",
              "      <td>NaN</td>\n",
              "    </tr>\n",
              "    <tr>\n",
              "      <th>2007-01-01 02:00:00</th>\n",
              "      <td>12.3</td>\n",
              "      <td>NaN</td>\n",
              "      <td>NaN</td>\n",
              "      <td>NaN</td>\n",
              "      <td>9.4</td>\n",
              "      <td>10.0</td>\n",
              "      <td>NaN</td>\n",
              "    </tr>\n",
              "    <tr>\n",
              "      <th>2007-01-01 03:00:00</th>\n",
              "      <td>11.5</td>\n",
              "      <td>NaN</td>\n",
              "      <td>NaN</td>\n",
              "      <td>NaN</td>\n",
              "      <td>9.3</td>\n",
              "      <td>9.7</td>\n",
              "      <td>NaN</td>\n",
              "    </tr>\n",
              "    <tr>\n",
              "      <th>2007-01-01 04:00:00</th>\n",
              "      <td>9.6</td>\n",
              "      <td>NaN</td>\n",
              "      <td>NaN</td>\n",
              "      <td>NaN</td>\n",
              "      <td>8.6</td>\n",
              "      <td>10.2</td>\n",
              "      <td>NaN</td>\n",
              "    </tr>\n",
              "  </tbody>\n",
              "</table>\n",
              "</div>"
            ],
            "text/plain": [
              "                    TT_TU                            \n",
              "STATIONS_ID            3   44  71  73    78    91  96\n",
              "MESS_DATUM                                           \n",
              "2007-01-01 00:00:00  11.4 NaN NaN NaN  11.0   9.4 NaN\n",
              "2007-01-01 01:00:00  12.0 NaN NaN NaN  11.4   9.6 NaN\n",
              "2007-01-01 02:00:00  12.3 NaN NaN NaN   9.4  10.0 NaN\n",
              "2007-01-01 03:00:00  11.5 NaN NaN NaN   9.3   9.7 NaN\n",
              "2007-01-01 04:00:00   9.6 NaN NaN NaN   8.6  10.2 NaN"
            ]
          },
          "metadata": {
            "tags": []
          },
          "execution_count": 9
        }
      ]
    },
    {
      "cell_type": "code",
      "metadata": {
        "colab": {
          "base_uri": "https://localhost:8080/",
          "height": 318
        },
        "id": "4OBuKL-F70m3",
        "outputId": "f2cb9f73-d712-4b99-fde0-50f91fa17306"
      },
      "source": [
        "main_df.describe()"
      ],
      "execution_count": 7,
      "outputs": [
        {
          "output_type": "execute_result",
          "data": {
            "text/html": [
              "<div>\n",
              "<style scoped>\n",
              "    .dataframe tbody tr th:only-of-type {\n",
              "        vertical-align: middle;\n",
              "    }\n",
              "\n",
              "    .dataframe tbody tr th {\n",
              "        vertical-align: top;\n",
              "    }\n",
              "\n",
              "    .dataframe thead tr th {\n",
              "        text-align: left;\n",
              "    }\n",
              "</style>\n",
              "<table border=\"1\" class=\"dataframe\">\n",
              "  <thead>\n",
              "    <tr>\n",
              "      <th></th>\n",
              "      <th colspan=\"7\" halign=\"left\">TT_TU</th>\n",
              "    </tr>\n",
              "    <tr>\n",
              "      <th>STATIONS_ID</th>\n",
              "      <th>3</th>\n",
              "      <th>44</th>\n",
              "      <th>71</th>\n",
              "      <th>73</th>\n",
              "      <th>78</th>\n",
              "      <th>91</th>\n",
              "      <th>96</th>\n",
              "    </tr>\n",
              "  </thead>\n",
              "  <tbody>\n",
              "    <tr>\n",
              "      <th>count</th>\n",
              "      <td>37224.000000</td>\n",
              "      <td>119787.000000</td>\n",
              "      <td>88391.000000</td>\n",
              "      <td>111471.000000</td>\n",
              "      <td>122734.000000</td>\n",
              "      <td>113950.000000</td>\n",
              "      <td>6399.000000</td>\n",
              "    </tr>\n",
              "    <tr>\n",
              "      <th>mean</th>\n",
              "      <td>10.103922</td>\n",
              "      <td>9.825787</td>\n",
              "      <td>8.399764</td>\n",
              "      <td>7.501486</td>\n",
              "      <td>9.944884</td>\n",
              "      <td>9.199869</td>\n",
              "      <td>12.730255</td>\n",
              "    </tr>\n",
              "    <tr>\n",
              "      <th>std</th>\n",
              "      <td>7.200001</td>\n",
              "      <td>19.363368</td>\n",
              "      <td>8.779766</td>\n",
              "      <td>47.537112</td>\n",
              "      <td>7.232055</td>\n",
              "      <td>8.400713</td>\n",
              "      <td>23.189555</td>\n",
              "    </tr>\n",
              "    <tr>\n",
              "      <th>min</th>\n",
              "      <td>-13.600000</td>\n",
              "      <td>-999.000000</td>\n",
              "      <td>-999.000000</td>\n",
              "      <td>-999.000000</td>\n",
              "      <td>-16.200000</td>\n",
              "      <td>-999.000000</td>\n",
              "      <td>-999.000000</td>\n",
              "    </tr>\n",
              "    <tr>\n",
              "      <th>25%</th>\n",
              "      <td>5.000000</td>\n",
              "      <td>5.000000</td>\n",
              "      <td>2.200000</td>\n",
              "      <td>2.800000</td>\n",
              "      <td>4.800000</td>\n",
              "      <td>3.400000</td>\n",
              "      <td>7.250000</td>\n",
              "    </tr>\n",
              "    <tr>\n",
              "      <th>50%</th>\n",
              "      <td>9.900000</td>\n",
              "      <td>10.000000</td>\n",
              "      <td>8.300000</td>\n",
              "      <td>9.300000</td>\n",
              "      <td>9.700000</td>\n",
              "      <td>8.900000</td>\n",
              "      <td>13.200000</td>\n",
              "    </tr>\n",
              "    <tr>\n",
              "      <th>75%</th>\n",
              "      <td>15.300000</td>\n",
              "      <td>15.200000</td>\n",
              "      <td>14.200000</td>\n",
              "      <td>15.800000</td>\n",
              "      <td>15.000000</td>\n",
              "      <td>14.700000</td>\n",
              "      <td>18.500000</td>\n",
              "    </tr>\n",
              "    <tr>\n",
              "      <th>max</th>\n",
              "      <td>36.200000</td>\n",
              "      <td>37.000000</td>\n",
              "      <td>33.700000</td>\n",
              "      <td>36.700000</td>\n",
              "      <td>39.000000</td>\n",
              "      <td>36.900000</td>\n",
              "      <td>37.900000</td>\n",
              "    </tr>\n",
              "  </tbody>\n",
              "</table>\n",
              "</div>"
            ],
            "text/plain": [
              "                    TT_TU                 ...                            \n",
              "STATIONS_ID            3              44  ...             91           96\n",
              "count        37224.000000  119787.000000  ...  113950.000000  6399.000000\n",
              "mean            10.103922       9.825787  ...       9.199869    12.730255\n",
              "std              7.200001      19.363368  ...       8.400713    23.189555\n",
              "min            -13.600000    -999.000000  ...    -999.000000  -999.000000\n",
              "25%              5.000000       5.000000  ...       3.400000     7.250000\n",
              "50%              9.900000      10.000000  ...       8.900000    13.200000\n",
              "75%             15.300000      15.200000  ...      14.700000    18.500000\n",
              "max             36.200000      37.000000  ...      36.900000    37.900000\n",
              "\n",
              "[8 rows x 7 columns]"
            ]
          },
          "metadata": {
            "tags": []
          },
          "execution_count": 7
        }
      ]
    },
    {
      "cell_type": "code",
      "metadata": {
        "colab": {
          "base_uri": "https://localhost:8080/"
        },
        "id": "-3aiUoYn71yP",
        "outputId": "e76f281d-4ecb-45c6-ec47-4577b295e0e0"
      },
      "source": [
        "main_df['TT_TU'][3]"
      ],
      "execution_count": 27,
      "outputs": [
        {
          "output_type": "execute_result",
          "data": {
            "text/plain": [
              "(122736,)"
            ]
          },
          "metadata": {
            "tags": []
          },
          "execution_count": 27
        }
      ]
    },
    {
      "cell_type": "code",
      "metadata": {
        "colab": {
          "base_uri": "https://localhost:8080/",
          "height": 283
        },
        "id": "MGjulCb39ffG",
        "outputId": "e41167f8-45a4-4b90-d942-9a3ac550aa9b"
      },
      "source": [
        "import matplotlib.pyplot as plt\n",
        "plt.plot(main_df['TT_TU'][3][:200])"
      ],
      "execution_count": 33,
      "outputs": [
        {
          "output_type": "execute_result",
          "data": {
            "text/plain": [
              "[<matplotlib.lines.Line2D at 0x7f3ac15c7510>]"
            ]
          },
          "metadata": {
            "tags": []
          },
          "execution_count": 33
        },
        {
          "output_type": "display_data",
          "data": {
            "image/png": "[encoded data removed]",
            "text/plain": [
              "<Figure size 432x288 with 1 Axes>"
            ]
          },
          "metadata": {
            "tags": [],
            "needs_background": "light"
          }
        }
      ]
    },
    {
      "cell_type": "code",
      "metadata": {
        "id": "YYJq_l0mBEby"
      },
      "source": [
        ""
      ],
      "execution_count": null,
      "outputs": []
    }
  ]
}